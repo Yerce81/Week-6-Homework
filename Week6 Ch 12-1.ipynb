{
 "cells": [
  {
   "cell_type": "code",
   "execution_count": 1,
   "id": "020274c4",
   "metadata": {},
   "outputs": [],
   "source": [
    "def histrogram(s):\n",
    "    d= dict()\n",
    "    for c in s:\n",
    "        if c not in d:\n",
    "            d[c] = 1\n",
    "        else:\n",
    "            d[c] += 1\n",
    "    return d"
   ]
  },
  {
   "cell_type": "code",
   "execution_count": 3,
   "id": "3b462b25",
   "metadata": {},
   "outputs": [
    {
     "data": {
      "text/plain": [
       "{'S': 1,\n",
       " 'u': 2,\n",
       " 'p': 2,\n",
       " 'e': 2,\n",
       " 'r': 2,\n",
       " 'c': 3,\n",
       " 'a': 3,\n",
       " 'l': 3,\n",
       " 'i': 7,\n",
       " 'f': 1,\n",
       " 'g': 1,\n",
       " 's': 2,\n",
       " 't': 1,\n",
       " 'x': 1,\n",
       " 'd': 1,\n",
       " 'o': 2}"
      ]
     },
     "execution_count": 3,
     "metadata": {},
     "output_type": "execute_result"
    }
   ],
   "source": [
    "x = histrogram('Supercalifragilisticexpialidocious')\n",
    "x"
   ]
  },
  {
   "cell_type": "code",
   "execution_count": 5,
   "id": "f521d313",
   "metadata": {},
   "outputs": [],
   "source": [
    "def most_frequent(d):\n",
    "    inverse = dict()\n",
    "    for key in d:\n",
    "        val = d[key]\n",
    "        if val not in inverse:\n",
    "            inverse[val] = [key]\n",
    "        else:\n",
    "            inverse[val].append(key)\n",
    "    return inverse"
   ]
  },
  {
   "cell_type": "code",
   "execution_count": 7,
   "id": "1ad579dd",
   "metadata": {},
   "outputs": [
    {
     "data": {
      "text/plain": [
       "{1: ['S', 'f', 'g', 't', 'x', 'd'],\n",
       " 2: ['u', 'p', 'e', 'r', 's', 'o'],\n",
       " 3: ['c', 'a', 'l'],\n",
       " 7: ['i']}"
      ]
     },
     "execution_count": 7,
     "metadata": {},
     "output_type": "execute_result"
    }
   ],
   "source": [
    "inverse = invert_dict(x)\n",
    "inverse"
   ]
  },
  {
   "cell_type": "code",
   "execution_count": null,
   "id": "26e80aa3",
   "metadata": {},
   "outputs": [],
   "source": []
  }
 ],
 "metadata": {
  "kernelspec": {
   "display_name": "Python 3",
   "language": "python",
   "name": "python3"
  },
  "language_info": {
   "codemirror_mode": {
    "name": "ipython",
    "version": 3
   },
   "file_extension": ".py",
   "mimetype": "text/x-python",
   "name": "python",
   "nbconvert_exporter": "python",
   "pygments_lexer": "ipython3",
   "version": "3.9.11"
  }
 },
 "nbformat": 4,
 "nbformat_minor": 5
}
